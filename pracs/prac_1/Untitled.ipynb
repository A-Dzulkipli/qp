{
 "cells": [
  {
   "cell_type": "code",
   "execution_count": 1,
   "id": "a5685686-9c4e-4d31-ba7f-74fca5611e1e",
   "metadata": {},
   "outputs": [],
   "source": [
    "from prac_1 import *"
   ]
  },
  {
   "cell_type": "code",
   "execution_count": 2,
   "id": "c9c478a1-8c36-4621-aa94-c8bb8bd2aa05",
   "metadata": {},
   "outputs": [],
   "source": [
    "coin_game = CoinGame()"
   ]
  },
  {
   "cell_type": "code",
   "execution_count": 3,
   "id": "9cc569db-896c-4b19-b83c-7b2ef2019e33",
   "metadata": {},
   "outputs": [],
   "source": [
    "coin_game.setup()"
   ]
  },
  {
   "cell_type": "code",
   "execution_count": null,
   "id": "cb99a615-62d3-460f-b0a5-fc20bd36ba29",
   "metadata": {},
   "outputs": [],
   "source": [
    "outcome = coin_game.choose_coin()"
   ]
  }
 ],
 "metadata": {
  "kernelspec": {
   "display_name": "Python 3 (ipykernel)",
   "language": "python",
   "name": "python3"
  },
  "language_info": {
   "codemirror_mode": {
    "name": "ipython",
    "version": 3
   },
   "file_extension": ".py",
   "mimetype": "text/x-python",
   "name": "python",
   "nbconvert_exporter": "python",
   "pygments_lexer": "ipython3",
   "version": "3.12.2"
  }
 },
 "nbformat": 4,
 "nbformat_minor": 5
}
