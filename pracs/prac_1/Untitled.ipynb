{
 "cells": [
  {
   "cell_type": "code",
   "execution_count": 1,
   "id": "a5685686-9c4e-4d31-ba7f-74fca5611e1e",
   "metadata": {},
   "outputs": [],
   "source": [
    "from prac_1 import *"
   ]
  },
  {
   "cell_type": "code",
   "execution_count": 2,
   "id": "c9c478a1-8c36-4621-aa94-c8bb8bd2aa05",
   "metadata": {},
   "outputs": [],
   "source": [
    "coin_game = CoinGame()"
   ]
  },
  {
   "cell_type": "code",
   "execution_count": 3,
   "id": "9cc569db-896c-4b19-b83c-7b2ef2019e33",
   "metadata": {},
   "outputs": [],
   "source": [
    "coin_game.setup()"
   ]
  },
  {
   "cell_type": "code",
   "execution_count": 6,
   "id": "cb99a615-62d3-460f-b0a5-fc20bd36ba29",
   "metadata": {},
   "outputs": [],
   "source": [
    "outcome = coin_game.choose_coin(0)"
   ]
  },
  {
   "cell_type": "code",
   "execution_count": 7,
   "id": "fdd5abf2-1bb1-45ab-b8d0-1d7ebf53a15a",
   "metadata": {},
   "outputs": [
    {
     "data": {
      "text/plain": [
       "[1, 98, 1, [2, 0, 0, 0, 0, 0, 0, 0, 0, 0], [1, 0, 0, 0, 0, 0, 0, 0, 0, 0]]"
      ]
     },
     "execution_count": 7,
     "metadata": {},
     "output_type": "execute_result"
    }
   ],
   "source": [
    "outcome"
   ]
  },
  {
   "cell_type": "code",
   "execution_count": null,
   "id": "e5ae2aed-89ce-45e1-9508-94c992126b86",
   "metadata": {},
   "outputs": [],
   "source": []
  }
 ],
 "metadata": {
  "kernelspec": {
   "display_name": "Python 3 (ipykernel)",
   "language": "python",
   "name": "python3"
  },
  "language_info": {
   "codemirror_mode": {
    "name": "ipython",
    "version": 3
   },
   "file_extension": ".py",
   "mimetype": "text/x-python",
   "name": "python",
   "nbconvert_exporter": "python",
   "pygments_lexer": "ipython3",
   "version": "3.12.2"
  }
 },
 "nbformat": 4,
 "nbformat_minor": 5
}
